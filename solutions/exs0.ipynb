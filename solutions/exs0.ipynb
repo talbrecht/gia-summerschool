{
 "cells": [
  {
   "cell_type": "markdown",
   "metadata": {},
   "source": [
    "## Excercises on ice sheet modeling at GIA training school 2023\n",
    "© Torsten Albrecht, albrecht@pik-potsdam.de, PIK, 2023\n",
    "\n",
    "- based on Greve & Blatter 2008, [Dynamics of Ice Sheets and Glaciers](https://books.google.de/books?id=hv2NKoM7ylkC&lpg=PR7&dq=Dynamics%20of%20Ice%20Sheets%20and%20Glaciers&lr&pg=PR7#v=onepage&q=Dynamics%20of%20Ice%20Sheets%20and%20Glaciers&f=false)"
   ]
  },
  {
   "cell_type": "markdown",
   "metadata": {},
   "source": [
    "### 0 Scaling"
   ]
  },
  {
   "cell_type": "markdown",
   "metadata": {},
   "source": [
    "The equation of motion reads\n",
    "$$\n",
    "\\rho_i \\frac{d\\vec{v}}{dt} = div \\, \\overleftrightarrow{\\sigma} + \\vec{f}_g = -grad \\, p + div \\, \\overleftrightarrow{\\tau} + \\rho_i \\vec{g}\n",
    "$$\n",
    "\n",
    "with $\\rho_i$ the ice density, <br>\n",
    "$\\vec{v}$ the three-dimensional ice velocity vector, <br>\n",
    "$\\overleftrightarrow{\\sigma}$ the Cauchy stress tensor, <br>\n",
    "$p$ the pressure, <br>\n",
    "$\\overleftrightarrow{\\tau}$ the deviatoric stress tensor and <br>\n",
    "$\\vec{g}$ the acceleration due to gravity.\n",
    "\n",
    "For the large ice sheets on Earth we can assume the aspect ratio\n",
    "$$\n",
    "\\epsilon = \\frac{[H]}{[L]} = \\frac{[W]}{[U]} = \\frac{1\\,\\text{km}}{1000\\,\\text{km}} = \\frac{1\\,\\text{m/yr}}{1000\\,\\text{m/yr}} = \\mathcal{O}(10^{-3})\n",
    "$$\n",
    "\n",
    "The **Froude number** is a non-dimensial scalar, that compares the acceleration term with the pressure gradient."
   ]
  },
  {
   "cell_type": "markdown",
   "metadata": {},
   "source": [
    "#### Q1: What is the horizontal Frounde number for ice sheet scales? Which term of the equation of motion can be neglected?\n",
    "Hint: \n",
    "$$\n",
    "[g] = 10\\,\\text{m/s}^2 \\approx 10^{16}\\,\\text{m/yr}^2, \\;\n",
    "[t] = \\frac{[L]}{[U]}, \\;\n",
    "[p] = [\\rho][g][H]\n",
    "$$\n"
   ]
  },
  {
   "cell_type": "markdown",
   "metadata": {},
   "source": [
    "<div class=\"alert alert-block alert-info\">\n",
    "<details>\n",
    "<summary><b>A1:</b> click to show solution</summary>\n",
    "\n",
    "\n",
    "$$\n",
    "Fr_h = \\frac{ \\frac{[\\rho] [U]}{[t]} }{ \\frac{[p]}{[L]} } = \\frac{ \\frac{[U^2]}{[L]} }{ \\frac{[g]}{[H]} } = \\frac{[U^2]}{[L]} = \\frac{(10^3 \\,\\text{m/yr})^2}{10^{16}\\,\\text{m/yr}^2 \\, 10^3 \\,\\text{m}} \\mathcal{O}(10^{-13})\n",
    "$$\n",
    "\n",
    "Hence acceleration can be neglected!\n",
    "\n",
    "$$\n",
    "\\rho_i \\frac{d\\vec{v}}{dt} \\rightarrow 0\n",
    "$$\n",
    "    \n",
    "</details>\n",
    "</div>"
   ]
  },
  {
   "cell_type": "markdown",
   "metadata": {},
   "source": [
    "Neglecting acceleration yields the **Stokes flow**\n",
    "\n",
    "$$\n",
    "\\frac{\\partial \\sigma_{xx}}{\\partial x} + \\frac{\\partial \\sigma_{xy}}{\\partial y} + \\frac{\\partial \\sigma_{xz}}{\\partial z} = 0 ,\n",
    "$$\n",
    "$$\n",
    "\\frac{\\partial \\sigma_{xy}}{\\partial x} + \\frac{\\partial \\sigma_{yy}}{\\partial y} + \\frac{\\partial \\sigma_{yz}}{\\partial z} = 0 , \n",
    "$$\n",
    "$$\n",
    " \\frac{\\partial \\sigma_{zz}}{\\partial z} = \\rho \\, g ,\n",
    "$$\n",
    "\n",
    "with 6 independent Cauchy stress terms (symmetric tensor)"
   ]
  },
  {
   "cell_type": "markdown",
   "metadata": {},
   "source": [
    "#### Q1*: What is the Froude number for the vertical dimension?\n",
    "(Questions with * are voluntary)"
   ]
  },
  {
   "cell_type": "markdown",
   "metadata": {},
   "source": [
    "<div class=\"alert alert-block alert-info\">\n",
    "<details>\n",
    "  <summary><b>A1*:</b> click to show solution</summary>\n",
    "$$\n",
    "Fr_v = \\epsilon^2 Fr_h = \\mathcal{O}(10^{−19}).\n",
    "$$\n",
    "</details>\n",
    "</div>"
   ]
  }
 ],
 "metadata": {
  "kernelspec": {
   "display_name": "Python 3 (ipykernel)",
   "language": "python",
   "name": "python3"
  },
  "language_info": {
   "codemirror_mode": {
    "name": "ipython",
    "version": 3
   },
   "file_extension": ".py",
   "mimetype": "text/x-python",
   "name": "python",
   "nbconvert_exporter": "python",
   "pygments_lexer": "ipython3",
   "version": "3.10.4"
  },
  "toc": {
   "base_numbering": 1,
   "nav_menu": {},
   "number_sections": true,
   "sideBar": true,
   "skip_h1_title": false,
   "title_cell": "Table of Contents",
   "title_sidebar": "Contents",
   "toc_cell": false,
   "toc_position": {},
   "toc_section_display": true,
   "toc_window_display": false
  }
 },
 "nbformat": 4,
 "nbformat_minor": 4
}
